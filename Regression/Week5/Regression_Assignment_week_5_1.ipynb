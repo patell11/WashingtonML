{
 "cells": [
  {
   "cell_type": "code",
   "execution_count": 8,
   "metadata": {
    "collapsed": true
   },
   "outputs": [],
   "source": [
    "import pandas as pd\n",
    "import numpy as np\n",
    "from sklearn.model_selection import train_test_split\n",
    "import random\n",
    "from sklearn.linear_model import LinearRegression\n",
    "from math import sqrt, log\n",
    "from sklearn import linear_model"
   ]
  },
  {
   "cell_type": "code",
   "execution_count": 3,
   "metadata": {
    "collapsed": true
   },
   "outputs": [],
   "source": [
    "dtype_dict = {'bathrooms':float, 'waterfront':int, 'sqft_above':int, 'sqft_living15':float, \n",
    "              'grade':int, 'yr_renovated':int, 'price':float, 'bedrooms':float, 'zipcode':str, \n",
    "              'long':float, 'sqft_lot15':float, 'sqft_living':float, 'floors':float, 'condition':int, \n",
    "              'lat':float, 'date':str, 'sqft_basement':int, 'yr_built':int, 'id':str, 'sqft_lot':int, 'view':int}"
   ]
  },
  {
   "cell_type": "code",
   "execution_count": 4,
   "metadata": {},
   "outputs": [],
   "source": [
    "sales = pd.read_csv(\"~/Desktop/ML_Washington/WashingtonML/Regression/Week2/kc_house_data.csv\", dtype = dtype_dict)"
   ]
  },
  {
   "cell_type": "code",
   "execution_count": 7,
   "metadata": {},
   "outputs": [],
   "source": [
    "sales['sqft_living_sqrt'] = sales['sqft_living'].apply(sqrt)\n",
    "sales['sqft_lot_sqrt'] = sales['sqft_lot'].apply(sqrt)\n",
    "sales['bedrooms_square'] = sales['bedrooms']*sales['bedrooms']\n",
    "sales['floors_square'] = sales['floors']*sales['floors']"
   ]
  },
  {
   "cell_type": "code",
   "execution_count": 9,
   "metadata": {},
   "outputs": [
    {
     "data": {
      "text/plain": [
       "Lasso(alpha=500.0, copy_X=True, fit_intercept=True, max_iter=1000,\n",
       "      normalize=True, positive=False, precompute=False, random_state=None,\n",
       "      selection='cyclic', tol=0.0001, warm_start=False)"
      ]
     },
     "execution_count": 9,
     "metadata": {},
     "output_type": "execute_result"
    }
   ],
   "source": [
    "all_features = ['bedrooms', 'bedrooms_square',\n",
    "            'bathrooms',\n",
    "            'sqft_living', 'sqft_living_sqrt',\n",
    "            'sqft_lot', 'sqft_lot_sqrt',\n",
    "            'floors', 'floors_square',\n",
    "            'waterfront', 'view', 'condition', 'grade',\n",
    "            'sqft_above',\n",
    "            'sqft_basement',\n",
    "            'yr_built', 'yr_renovated']\n",
    "\n",
    "model_all = linear_model.Lasso(alpha=5e2, normalize=True) # set parameters\n",
    "model_all.fit(sales[all_features], sales['price']) # learn weights"
   ]
  },
  {
   "cell_type": "code",
   "execution_count": 10,
   "metadata": {},
   "outputs": [
    {
     "name": "stdout",
     "output_type": "stream",
     "text": [
      "-218136.21403514117\n",
      "[    0.             0.             0.           134.43931396\n",
      "     0.             0.             0.             0.\n",
      "     0.             0.         24750.00458561     0.\n",
      " 61749.10309071     0.             0.            -0.\n",
      "     0.        ]\n"
     ]
    }
   ],
   "source": [
    "print(model_all.intercept_)\n",
    "print(model_all.coef_)"
   ]
  },
  {
   "cell_type": "code",
   "execution_count": 14,
   "metadata": {},
   "outputs": [],
   "source": [
    "df = pd.DataFrame(model_all.coef_,all_features, columns = ['coefficients'])"
   ]
  },
  {
   "cell_type": "code",
   "execution_count": 15,
   "metadata": {},
   "outputs": [
    {
     "data": {
      "text/html": [
       "<div>\n",
       "<style scoped>\n",
       "    .dataframe tbody tr th:only-of-type {\n",
       "        vertical-align: middle;\n",
       "    }\n",
       "\n",
       "    .dataframe tbody tr th {\n",
       "        vertical-align: top;\n",
       "    }\n",
       "\n",
       "    .dataframe thead th {\n",
       "        text-align: right;\n",
       "    }\n",
       "</style>\n",
       "<table border=\"1\" class=\"dataframe\">\n",
       "  <thead>\n",
       "    <tr style=\"text-align: right;\">\n",
       "      <th></th>\n",
       "      <th>coefficients</th>\n",
       "    </tr>\n",
       "  </thead>\n",
       "  <tbody>\n",
       "    <tr>\n",
       "      <th>bedrooms</th>\n",
       "      <td>0.000000</td>\n",
       "    </tr>\n",
       "    <tr>\n",
       "      <th>bedrooms_square</th>\n",
       "      <td>0.000000</td>\n",
       "    </tr>\n",
       "    <tr>\n",
       "      <th>bathrooms</th>\n",
       "      <td>0.000000</td>\n",
       "    </tr>\n",
       "    <tr>\n",
       "      <th>sqft_living</th>\n",
       "      <td>134.439314</td>\n",
       "    </tr>\n",
       "    <tr>\n",
       "      <th>sqft_living_sqrt</th>\n",
       "      <td>0.000000</td>\n",
       "    </tr>\n",
       "    <tr>\n",
       "      <th>sqft_lot</th>\n",
       "      <td>0.000000</td>\n",
       "    </tr>\n",
       "    <tr>\n",
       "      <th>sqft_lot_sqrt</th>\n",
       "      <td>0.000000</td>\n",
       "    </tr>\n",
       "    <tr>\n",
       "      <th>floors</th>\n",
       "      <td>0.000000</td>\n",
       "    </tr>\n",
       "    <tr>\n",
       "      <th>floors_square</th>\n",
       "      <td>0.000000</td>\n",
       "    </tr>\n",
       "    <tr>\n",
       "      <th>waterfront</th>\n",
       "      <td>0.000000</td>\n",
       "    </tr>\n",
       "    <tr>\n",
       "      <th>view</th>\n",
       "      <td>24750.004586</td>\n",
       "    </tr>\n",
       "    <tr>\n",
       "      <th>condition</th>\n",
       "      <td>0.000000</td>\n",
       "    </tr>\n",
       "    <tr>\n",
       "      <th>grade</th>\n",
       "      <td>61749.103091</td>\n",
       "    </tr>\n",
       "    <tr>\n",
       "      <th>sqft_above</th>\n",
       "      <td>0.000000</td>\n",
       "    </tr>\n",
       "    <tr>\n",
       "      <th>sqft_basement</th>\n",
       "      <td>0.000000</td>\n",
       "    </tr>\n",
       "    <tr>\n",
       "      <th>yr_built</th>\n",
       "      <td>-0.000000</td>\n",
       "    </tr>\n",
       "    <tr>\n",
       "      <th>yr_renovated</th>\n",
       "      <td>0.000000</td>\n",
       "    </tr>\n",
       "  </tbody>\n",
       "</table>\n",
       "</div>"
      ],
      "text/plain": [
       "                  coefficients\n",
       "bedrooms              0.000000\n",
       "bedrooms_square       0.000000\n",
       "bathrooms             0.000000\n",
       "sqft_living         134.439314\n",
       "sqft_living_sqrt      0.000000\n",
       "sqft_lot              0.000000\n",
       "sqft_lot_sqrt         0.000000\n",
       "floors                0.000000\n",
       "floors_square         0.000000\n",
       "waterfront            0.000000\n",
       "view              24750.004586\n",
       "condition             0.000000\n",
       "grade             61749.103091\n",
       "sqft_above            0.000000\n",
       "sqft_basement         0.000000\n",
       "yr_built             -0.000000\n",
       "yr_renovated          0.000000"
      ]
     },
     "execution_count": 15,
     "metadata": {},
     "output_type": "execute_result"
    }
   ],
   "source": [
    "df"
   ]
  },
  {
   "cell_type": "code",
   "execution_count": 16,
   "metadata": {
    "collapsed": true
   },
   "outputs": [],
   "source": [
    "testing = pd.read_csv(\"~/Desktop/ML_Washington/WashingtonML/Regression/Week4/wk3_kc_house_test_data.csv\", dtype = dtype_dict)\n",
    "training = pd.read_csv(\"~/Desktop/ML_Washington/WashingtonML/Regression/Week4/wk3_kc_house_train_data.csv\", dtype = dtype_dict)\n",
    "validation = pd.read_csv(\"~/Desktop/ML_Washington/WashingtonML/Regression/Week4/wk3_kc_house_valid_data.csv\", dtype = dtype_dict)\n"
   ]
  },
  {
   "cell_type": "code",
   "execution_count": 17,
   "metadata": {
    "collapsed": true
   },
   "outputs": [],
   "source": [
    "testing['sqft_living_sqrt'] = testing['sqft_living'].apply(sqrt)\n",
    "testing['sqft_lot_sqrt'] = testing['sqft_lot'].apply(sqrt)\n",
    "testing['bedrooms_square'] = testing['bedrooms']*testing['bedrooms']\n",
    "testing['floors_square'] = testing['floors']*testing['floors']\n",
    "\n",
    "training['sqft_living_sqrt'] = training['sqft_living'].apply(sqrt)\n",
    "training['sqft_lot_sqrt'] = training['sqft_lot'].apply(sqrt)\n",
    "training['bedrooms_square'] = training['bedrooms']*training['bedrooms']\n",
    "training['floors_square'] = training['floors']*training['floors']\n",
    "\n",
    "validation['sqft_living_sqrt'] = validation['sqft_living'].apply(sqrt)\n",
    "validation['sqft_lot_sqrt'] = validation['sqft_lot'].apply(sqrt)\n",
    "validation['bedrooms_square'] = validation['bedrooms']*validation['bedrooms']\n",
    "validation['floors_square'] = validation['floors']*validation['floors']"
   ]
  },
  {
   "cell_type": "code",
   "execution_count": 18,
   "metadata": {
    "collapsed": true
   },
   "outputs": [],
   "source": [
    "l1_penalty = np.logspace(1, 7, num=13)"
   ]
  },
  {
   "cell_type": "code",
   "execution_count": 19,
   "metadata": {
    "collapsed": true
   },
   "outputs": [],
   "source": [
    "RSS_valid = []\n",
    "for val in l1_penalty:\n",
    "    model = linear_model.Lasso(alpha=val, normalize=True)\n",
    "    model.fit(training[all_features], training['price'])\n",
    "    \n",
    "    predictions_valid = model.predict(validation[all_features])\n",
    "    residuals = predictions_valid - validation['price']\n",
    "    RSS = sum(value**2 for value in residuals)\n",
    "    RSS_valid.append(RSS)"
   ]
  },
  {
   "cell_type": "code",
   "execution_count": 20,
   "metadata": {},
   "outputs": [
    {
     "data": {
      "text/plain": [
       "[398213327300134.44,\n",
       " 399041900253348.4,\n",
       " 429791604072558.2,\n",
       " 463739831045119.4,\n",
       " 645898733633803.2,\n",
       " 1222506859427156.8,\n",
       " 1222506859427156.8,\n",
       " 1222506859427156.8,\n",
       " 1222506859427156.8,\n",
       " 1222506859427156.8,\n",
       " 1222506859427156.8,\n",
       " 1222506859427156.8,\n",
       " 1222506859427156.8]"
      ]
     },
     "execution_count": 20,
     "metadata": {},
     "output_type": "execute_result"
    }
   ],
   "source": [
    "RSS_valid"
   ]
  },
  {
   "cell_type": "code",
   "execution_count": 21,
   "metadata": {},
   "outputs": [
    {
     "data": {
      "text/plain": [
       "398213327300134.44"
      ]
     },
     "execution_count": 21,
     "metadata": {},
     "output_type": "execute_result"
    }
   ],
   "source": [
    "min(RSS_valid)"
   ]
  },
  {
   "cell_type": "code",
   "execution_count": 22,
   "metadata": {},
   "outputs": [
    {
     "data": {
      "text/plain": [
       "array([1.00000000e+01, 3.16227766e+01, 1.00000000e+02, 3.16227766e+02,\n",
       "       1.00000000e+03, 3.16227766e+03, 1.00000000e+04, 3.16227766e+04,\n",
       "       1.00000000e+05, 3.16227766e+05, 1.00000000e+06, 3.16227766e+06,\n",
       "       1.00000000e+07])"
      ]
     },
     "execution_count": 22,
     "metadata": {},
     "output_type": "execute_result"
    }
   ],
   "source": [
    "l1_penalty"
   ]
  },
  {
   "cell_type": "code",
   "execution_count": 23,
   "metadata": {},
   "outputs": [
    {
     "data": {
      "text/plain": [
       "98467402552698.92"
      ]
     },
     "execution_count": 23,
     "metadata": {},
     "output_type": "execute_result"
    }
   ],
   "source": [
    "model = linear_model.Lasso(alpha=10, normalize=True)\n",
    "model.fit(training[all_features], training['price'])\n",
    "\n",
    "predictions_testing = model.predict(testing[all_features])\n",
    "residuals = predictions_testing - testing['price']\n",
    "RSS = sum(value**2 for value in residuals)\n",
    "RSS"
   ]
  },
  {
   "cell_type": "code",
   "execution_count": 24,
   "metadata": {},
   "outputs": [
    {
     "name": "stdout",
     "output_type": "stream",
     "text": [
      "6630155.668628358\n",
      "[-1.61445628e+04  3.73245384e+02  5.08412433e+04  6.17853560e+02\n",
      " -4.44113549e+04  7.85623065e-01 -7.01194765e+02 -0.00000000e+00\n",
      "  5.01420046e+03  6.19488752e+05  3.80418557e+04  2.49987718e+04\n",
      "  1.28716235e+05  0.00000000e+00  0.00000000e+00 -3.29383118e+03\n",
      "  1.00573209e+01]\n"
     ]
    }
   ],
   "source": [
    "print(model.intercept_)\n",
    "print(model.coef_)"
   ]
  },
  {
   "cell_type": "code",
   "execution_count": 25,
   "metadata": {},
   "outputs": [
    {
     "data": {
      "text/plain": [
       "15"
      ]
     },
     "execution_count": 25,
     "metadata": {},
     "output_type": "execute_result"
    }
   ],
   "source": [
    "np.count_nonzero(model.coef_) + np.count_nonzero(model.intercept_)"
   ]
  },
  {
   "cell_type": "markdown",
   "metadata": {},
   "source": [
    "# Limit the number of nonzero weights\n",
    "\n",
    "What if we absolutely wanted to limit ourselves to, say, 7 features? This may be important if we want to derive \"a rule of thumb\" --- an interpretable model that has only a few features in them."
   ]
  },
  {
   "cell_type": "markdown",
   "metadata": {},
   "source": [
    "In this section, you are going to implement a simple, two phase procedure to achive this goal:\n",
    "1. Explore a large range of `l1_penalty` values to find a narrow region of `l1_penalty` values where models are likely to have the desired number of non-zero weights.\n",
    "2. Further explore the narrow region you found to find a good value for `l1_penalty` that achieves the desired sparsity.  Here, we will again use a validation set to choose the best value for `l1_penalty`."
   ]
  },
  {
   "cell_type": "code",
   "execution_count": 26,
   "metadata": {
    "collapsed": true
   },
   "outputs": [],
   "source": [
    "max_nonzeros = 7"
   ]
  },
  {
   "cell_type": "code",
   "execution_count": 27,
   "metadata": {
    "collapsed": true
   },
   "outputs": [],
   "source": [
    "l1_penalty_high = np.logspace(1, 4, num=20)"
   ]
  },
  {
   "cell_type": "code",
   "execution_count": 28,
   "metadata": {},
   "outputs": [
    {
     "data": {
      "text/plain": [
       "array([   10.        ,    14.38449888,    20.69138081,    29.76351442,\n",
       "          42.81332399,    61.58482111,    88.58667904,   127.42749857,\n",
       "         183.29807108,   263.66508987,   379.26901907,   545.55947812,\n",
       "         784.75997035,  1128.83789168,  1623.77673919,  2335.72146909,\n",
       "        3359.81828628,  4832.93023857,  6951.92796178, 10000.        ])"
      ]
     },
     "execution_count": 28,
     "metadata": {},
     "output_type": "execute_result"
    }
   ],
   "source": [
    "l1_penalty_high"
   ]
  },
  {
   "cell_type": "code",
   "execution_count": 34,
   "metadata": {},
   "outputs": [
    {
     "name": "stdout",
     "output_type": "stream",
     "text": [
      "max\n",
      "127.42749857031335 263.6650898730358\n"
     ]
    }
   ],
   "source": [
    "nonzeros_count = []\n",
    "l1_penalty_min = 0\n",
    "l1_penalty_max = 100000\n",
    "for value in l1_penalty_high:\n",
    "    model = linear_model.Lasso(alpha=value, normalize=True)\n",
    "    model.fit(training[all_features], training['price'])\n",
    "    nonzeros = np.count_nonzero(model.coef_) + np.count_nonzero(model.intercept_)\n",
    "    nonzeros_count.append(nonzeros)\n",
    "    \n",
    "    if nonzeros > max_nonzeros:\n",
    "        if value > l1_penalty_min:\n",
    "            l1_penalty_min = value\n",
    "    \n",
    "    if nonzeros < max_nonzeros:        \n",
    "        if value < l1_penalty_max:\n",
    "            print(\"max\")\n",
    "            l1_penalty_max = value\n",
    "print(l1_penalty_min, l1_penalty_max)"
   ]
  },
  {
   "cell_type": "code",
   "execution_count": 30,
   "metadata": {},
   "outputs": [
    {
     "data": {
      "text/plain": [
       "[15, 15, 15, 15, 13, 12, 11, 10, 7, 6, 6, 6, 5, 3, 3, 2, 1, 1, 1, 1]"
      ]
     },
     "execution_count": 30,
     "metadata": {},
     "output_type": "execute_result"
    }
   ],
   "source": [
    "nonzeros_count"
   ]
  },
  {
   "cell_type": "code",
   "execution_count": 35,
   "metadata": {
    "collapsed": true
   },
   "outputs": [],
   "source": [
    "l1_penalty_narrower = np.linspace(l1_penalty_min,l1_penalty_max,20)"
   ]
  },
  {
   "cell_type": "code",
   "execution_count": 36,
   "metadata": {},
   "outputs": [
    {
     "data": {
      "text/plain": [
       "array([127.42749857, 134.59789811, 141.76829765, 148.9386972 ,\n",
       "       156.10909674, 163.27949628, 170.44989582, 177.62029537,\n",
       "       184.79069491, 191.96109445, 199.13149399, 206.30189354,\n",
       "       213.47229308, 220.64269262, 227.81309216, 234.9834917 ,\n",
       "       242.15389125, 249.32429079, 256.49469033, 263.66508987])"
      ]
     },
     "execution_count": 36,
     "metadata": {},
     "output_type": "execute_result"
    }
   ],
   "source": [
    "l1_penalty_narrower"
   ]
  },
  {
   "cell_type": "code",
   "execution_count": 54,
   "metadata": {},
   "outputs": [
    {
     "name": "stdout",
     "output_type": "stream",
     "text": [
      "For l1_penalty = 127.42749857031335 and RSS = 435374677102678.94 and the nonzeros count = 10\n",
      "For l1_penalty = 134.5978981125619 and RSS = 437009229124473.4 and the nonzeros count = 10\n",
      "For l1_penalty = 141.76829765481045 and RSS = 438236128386911.44 and the nonzeros count = 8\n",
      "For l1_penalty = 148.938697197059 and RSS = 439158937799659.8 and the nonzeros count = 8\n",
      "For l1_penalty = 156.10909673930755 and RSS = 440037365263316.9 and the nonzeros count = 7\n",
      "For l1_penalty = 163.2794962815561 and RSS = 440777489641605.2 and the nonzeros count = 7\n",
      "For l1_penalty = 170.44989582380464 and RSS = 441566698090138.8 and the nonzeros count = 7\n",
      "For l1_penalty = 177.6202953660532 and RSS = 442406413188665.7 and the nonzeros count = 7\n",
      "For l1_penalty = 184.79069490830176 and RSS = 443296716874312.9 and the nonzeros count = 7\n",
      "For l1_penalty = 191.96109445055032 and RSS = 444239780526140.56 and the nonzeros count = 7\n",
      "For l1_penalty = 199.13149399279888 and RSS = 445230739842614.06 and the nonzeros count = 7\n",
      "For l1_penalty = 206.3018935350474 and RSS = 446268896864705.4 and the nonzeros count = 6\n",
      "For l1_penalty = 213.47229307729594 and RSS = 447112919434641.9 and the nonzeros count = 6\n",
      "For l1_penalty = 220.6426926195445 and RSS = 447998187851566.7 and the nonzeros count = 6\n",
      "For l1_penalty = 227.81309216179307 and RSS = 448924706673256.06 and the nonzeros count = 6\n",
      "For l1_penalty = 234.98349170404163 and RSS = 449892475899711.1 and the nonzeros count = 6\n",
      "For l1_penalty = 242.1538912462902 and RSS = 450901498778122.75 and the nonzeros count = 6\n",
      "For l1_penalty = 249.32429078853872 and RSS = 451952426654984.1 and the nonzeros count = 6\n",
      "For l1_penalty = 256.49469033078725 and RSS = 453043924367600.4 and the nonzeros count = 6\n",
      "For l1_penalty = 263.6650898730358 and RSS = 454176669662634.25 and the nonzeros count = 6\n",
      "\n",
      "\n",
      "                   coefficients\n",
      "bedrooms              -0.000000\n",
      "bedrooms_square       -0.000000\n",
      "bathrooms          10610.890284\n",
      "sqft_living          163.380252\n",
      "sqft_living_sqrt       0.000000\n",
      "sqft_lot              -0.000000\n",
      "sqft_lot_sqrt         -0.000000\n",
      "floors                 0.000000\n",
      "floors_square          0.000000\n",
      "waterfront        506451.687115\n",
      "view               41960.043555\n",
      "condition              0.000000\n",
      "grade             116253.553700\n",
      "sqft_above             0.000000\n",
      "sqft_basement          0.000000\n",
      "yr_built           -2612.234880\n",
      "yr_renovated           0.000000\n",
      "\n",
      "\n",
      "[-0.00000000e+00 -0.00000000e+00  1.06108903e+04  1.63380252e+02\n",
      "  0.00000000e+00 -0.00000000e+00 -0.00000000e+00  0.00000000e+00\n",
      "  0.00000000e+00  5.06451687e+05  4.19600436e+04  0.00000000e+00\n",
      "  1.16253554e+05  0.00000000e+00  0.00000000e+00 -2.61223488e+03\n",
      "  0.00000000e+00]\n",
      "4422190.27912035\n"
     ]
    }
   ],
   "source": [
    "RSS_valid_narrower = []\n",
    "RSS_valid_nonzeros = []\n",
    "for val in l1_penalty_narrower:\n",
    "    model = linear_model.Lasso(alpha=val, normalize=True)\n",
    "    model.fit(training[all_features], training['price'])\n",
    "    nonzeros = np.count_nonzero(model.coef_) + np.count_nonzero(model.intercept_)\n",
    "    \n",
    "    predictions_valid = model.predict(validation[all_features])\n",
    "    residuals = predictions_valid - validation['price']\n",
    "    RSS = sum(value**2 for value in residuals)\n",
    "    RSS_valid_narrower.append(RSS)\n",
    "    \n",
    "    if nonzeros == 7:\n",
    "        RSS_valid_nonzeros.append(RSS)\n",
    "    \n",
    "    if RSS - 440037365263316.9 == 0:\n",
    "        df_coefficients = pd.DataFrame(model.coef_,all_features, columns = ['coefficients'])\n",
    "        coefficients = model.coef_\n",
    "        intercept = model.intercept_\n",
    "    \n",
    "    print(\"For l1_penalty = {} and RSS = {} and the nonzeros count = {}\".format(val,RSS,nonzeros))\n",
    "print (\"\\n\")\n",
    "print (df_coefficients)\n",
    "print(\"\\n\")\n",
    "print(coefficients)\n",
    "print(intercept)"
   ]
  },
  {
   "cell_type": "code",
   "execution_count": 39,
   "metadata": {},
   "outputs": [
    {
     "data": {
      "text/plain": [
       "435374677102678.94"
      ]
     },
     "execution_count": 39,
     "metadata": {},
     "output_type": "execute_result"
    }
   ],
   "source": [
    "min(RSS_valid_narrower)"
   ]
  },
  {
   "cell_type": "code",
   "execution_count": 42,
   "metadata": {},
   "outputs": [
    {
     "data": {
      "text/plain": [
       "440037365263316.9"
      ]
     },
     "execution_count": 42,
     "metadata": {},
     "output_type": "execute_result"
    }
   ],
   "source": [
    "min(RSS_valid_nonzeros)"
   ]
  },
  {
   "cell_type": "code",
   "execution_count": null,
   "metadata": {
    "collapsed": true
   },
   "outputs": [],
   "source": []
  }
 ],
 "metadata": {
  "kernelspec": {
   "display_name": "Python 3",
   "language": "python",
   "name": "python3"
  },
  "language_info": {
   "codemirror_mode": {
    "name": "ipython",
    "version": 3
   },
   "file_extension": ".py",
   "mimetype": "text/x-python",
   "name": "python",
   "nbconvert_exporter": "python",
   "pygments_lexer": "ipython3",
   "version": "3.6.1"
  }
 },
 "nbformat": 4,
 "nbformat_minor": 2
}
