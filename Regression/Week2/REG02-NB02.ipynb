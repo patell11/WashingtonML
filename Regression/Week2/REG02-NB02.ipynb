{
 "cells": [
  {
   "cell_type": "markdown",
   "metadata": {},
   "source": [
    "# Regression Week 2: Multiple Regression (gradient descent)"
   ]
  },
  {
   "cell_type": "markdown",
   "metadata": {},
   "source": [
    "In the first notebook we explored multiple regression using Turi Create. Now we will use Turi Create along with numpy to solve for the regression weights with gradient descent.\n",
    "\n",
    "In this notebook we will cover estimating multiple regression weights via gradient descent. You will:\n",
    "* Add a constant column of 1's to a Turi Create SFrame to account for the intercept\n",
    "* Convert an SFrame into a Numpy array\n",
    "* Write a predict_output() function using Numpy\n",
    "* Write a numpy function to compute the derivative of the regression weights with respect to a single feature\n",
    "* Write gradient descent function to compute the regression weights given an initial weight vector, step size and tolerance.\n",
    "* Use the gradient descent function to estimate regression weights for multiple features"
   ]
  },
  {
   "cell_type": "markdown",
   "metadata": {},
   "source": [
    "# Fire up Turi Create"
   ]
  },
  {
   "cell_type": "markdown",
   "metadata": {},
   "source": [
    "Make sure you have the latest version of Turi Create"
   ]
  },
  {
   "cell_type": "code",
   "execution_count": 1,
   "metadata": {
    "collapsed": true
   },
   "outputs": [],
   "source": [
    "import turicreate"
   ]
  },
  {
   "cell_type": "markdown",
   "metadata": {},
   "source": [
    "# Load in house sales data\n",
    "\n",
    "Dataset is from house sales in King County, the region where the city of Seattle, WA is located."
   ]
  },
  {
   "cell_type": "code",
   "execution_count": 2,
   "metadata": {
    "collapsed": true
   },
   "outputs": [],
   "source": [
    "sales = turicreate.SFrame('home_data.sframe/')"
   ]
  },
  {
   "cell_type": "markdown",
   "metadata": {},
   "source": [
    "If we want to do any \"feature engineering\" like creating new features or adjusting existing ones we should do this directly using the SFrames as seen in the other Week 2 notebook. For this notebook, however, we will work with the existing features."
   ]
  },
  {
   "cell_type": "markdown",
   "metadata": {},
   "source": [
    "# Convert to Numpy Array"
   ]
  },
  {
   "cell_type": "markdown",
   "metadata": {},
   "source": [
    "Although SFrames offer a number of benefits to users (especially when using Big Data and built-in Turi Create functions) in order to understand the details of the implementation of algorithms it's important to work with a library that allows for direct (and optimized) matrix operations. Numpy is a Python solution to work with matrices (or any multi-dimensional \"array\").\n",
    "\n",
    "Recall that the predicted value given the weights and the features is just the dot product between the feature and weight vector. Similarly, if we put all of the features row-by-row in a matrix then the predicted value for *all* the observations can be computed by right multiplying the \"feature matrix\" by the \"weight vector\". \n",
    "\n",
    "First we need to take the SFrame of our data and convert it into a 2D numpy array (also called a matrix). To do this we use Turi Create's built in .to_dataframe() which converts the SFrame into a Pandas (another python library) dataframe. We can then use Panda's .as_matrix() to convert the dataframe into a numpy matrix."
   ]
  },
  {
   "cell_type": "code",
   "execution_count": 3,
   "metadata": {
    "collapsed": true
   },
   "outputs": [],
   "source": [
    "import numpy as np # note this allows us to refer to numpy as np instead "
   ]
  },
  {
   "cell_type": "markdown",
   "metadata": {},
   "source": [
    "Now we will write a function that will accept an SFrame, a list of feature names (e.g. ['sqft_living', 'bedrooms']) and an target feature e.g. ('price') and will return two things:\n",
    "* A numpy matrix whose columns are the desired features plus a constant column (this is how we create an 'intercept')\n",
    "* A numpy array containing the values of the output\n",
    "\n",
    "With this in mind, complete the following function (where there's an empty line you should write a line of code that does what the comment above indicates)"
   ]
  },
  {
   "cell_type": "code",
   "execution_count": 4,
   "metadata": {
    "collapsed": true
   },
   "outputs": [],
   "source": [
    "def get_numpy_data(data_sframe, features, output):\n",
    "    data_sframe['constant'] = 1 # this is how you add a constant column to an SFrame\n",
    "    # add the column 'constant' to the front of the features list so that we can extract it along with the others:\n",
    "    features = ['constant'] + features # this is how you combine two lists\n",
    "    # select the columns of data_SFrame given by the features list into the SFrame features_sframe (now including constant):\n",
    "    features_sframe = data_sframe[features]\n",
    "    # the following line will convert the features_SFrame into a numpy matrix:\n",
    "    feature_matrix = features_sframe.to_numpy()\n",
    "    # assign the column of data_sframe associated with the output to the SArray output_sarray\n",
    "    output_sarray = data_sframe[output]\n",
    "    # the following will convert the SArray into a numpy array by first converting it to a list\n",
    "    output_array = output_sarray.to_numpy()\n",
    "    return(feature_matrix, output_array)"
   ]
  },
  {
   "cell_type": "markdown",
   "metadata": {},
   "source": [
    "For testing let's use the 'sqft_living' feature and a constant as our features and price as our output:"
   ]
  },
  {
   "cell_type": "code",
   "execution_count": 5,
   "metadata": {},
   "outputs": [
    {
     "name": "stdout",
     "output_type": "stream",
     "text": [
      "[1.00e+00 1.18e+03]\n",
      "221900.0\n"
     ]
    }
   ],
   "source": [
    "(example_features, example_output) = get_numpy_data(sales, ['sqft_living'], 'price') # the [] around 'sqft_living' makes it a list\n",
    "print (example_features[0,:]) # this accesses the first row of the data the ':' indicates 'all columns'\n",
    "print (example_output[0]) # and the corresponding output"
   ]
  },
  {
   "cell_type": "code",
   "execution_count": 6,
   "metadata": {
    "collapsed": true
   },
   "outputs": [],
   "source": [
    "#sales.head()"
   ]
  },
  {
   "cell_type": "markdown",
   "metadata": {},
   "source": [
    "# Predicting output given regression weights"
   ]
  },
  {
   "cell_type": "markdown",
   "metadata": {},
   "source": [
    "Suppose we had the weights [1.0, 1.0] and the features [1.0, 1180.0] and we wanted to compute the predicted output 1.0\\*1.0 + 1.0\\*1180.0 = 1181.0 this is the dot product between these two arrays. If they're numpy arrayws we can use np.dot() to compute this:"
   ]
  },
  {
   "cell_type": "code",
   "execution_count": 7,
   "metadata": {},
   "outputs": [
    {
     "name": "stdout",
     "output_type": "stream",
     "text": [
      "1181.0\n"
     ]
    }
   ],
   "source": [
    "my_weights = np.array([1., 1.]) # the example weights\n",
    "my_features = example_features[0,] # we'll use the first data point\n",
    "predicted_value = np.dot(my_features, my_weights)\n",
    "print (predicted_value)"
   ]
  },
  {
   "cell_type": "markdown",
   "metadata": {},
   "source": [
    "np.dot() also works when dealing with a matrix and a vector. Recall that the predictions from all the observations is just the RIGHT (as in weights on the right) dot product between the features *matrix* and the weights *vector*. With this in mind finish the following predict_output function to compute the predictions for an entire matrix of features given the matrix and the weights:"
   ]
  },
  {
   "cell_type": "code",
   "execution_count": 8,
   "metadata": {
    "collapsed": true
   },
   "outputs": [],
   "source": [
    "def predict_output(feature_matrix, weights):\n",
    "    # assume feature_matrix is a numpy matrix containing the features as columns and weights is a corresponding numpy array\n",
    "    # create the predictions vector by using np.dot()\n",
    "    predictions = np.dot(feature_matrix, weights)\n",
    "    return(predictions)"
   ]
  },
  {
   "cell_type": "markdown",
   "metadata": {},
   "source": [
    "If you want to test your code run the following cell:"
   ]
  },
  {
   "cell_type": "code",
   "execution_count": 9,
   "metadata": {},
   "outputs": [
    {
     "name": "stdout",
     "output_type": "stream",
     "text": [
      "1181.0\n",
      "2571.0\n"
     ]
    }
   ],
   "source": [
    "test_predictions = predict_output(example_features, my_weights)\n",
    "print (test_predictions[0]) # should be 1181.0\n",
    "print (test_predictions[1]) # should be 2571.0"
   ]
  },
  {
   "cell_type": "markdown",
   "metadata": {},
   "source": [
    "# Computing the Derivative"
   ]
  },
  {
   "cell_type": "markdown",
   "metadata": {},
   "source": [
    "We are now going to move to computing the derivative of the regression cost function. Recall that the cost function is the sum over the data points of the squared difference between an observed output and a predicted output.\n",
    "\n",
    "Since the derivative of a sum is the sum of the derivatives we can compute the derivative for a single data point and then sum over data points. We can write the squared difference between the observed output and predicted output for a single point as follows:\n",
    "\n",
    "(w[0]\\*[CONSTANT] + w[1]\\*[feature_1] + ... + w[i] \\*[feature_i] + ... +  w[k]\\*[feature_k] - output)^2\n",
    "\n",
    "Where we have k features and a constant. So the derivative with respect to weight w[i] by the chain rule is:\n",
    "\n",
    "2\\*(w[0]\\*[CONSTANT] + w[1]\\*[feature_1] + ... + w[i] \\*[feature_i] + ... +  w[k]\\*[feature_k] - output)\\* [feature_i]\n",
    "\n",
    "The term inside the paranethesis is just the error (difference between prediction and output). So we can re-write this as:\n",
    "\n",
    "2\\*error\\*[feature_i]\n",
    "\n",
    "That is, the derivative for the weight for feature i is the sum (over data points) of 2 times the product of the error and the feature itself. In the case of the constant then this is just twice the sum of the errors!\n",
    "\n",
    "Recall that twice the sum of the product of two vectors is just twice the dot product of the two vectors. Therefore the derivative for the weight for feature_i is just two times the dot product between the values of feature_i and the current errors. \n",
    "\n",
    "With this in mind complete the following derivative function which computes the derivative of the weight given the value of the feature (over all data points) and the errors (over all data points)."
   ]
  },
  {
   "cell_type": "code",
   "execution_count": 10,
   "metadata": {
    "collapsed": true
   },
   "outputs": [],
   "source": [
    "def feature_derivative(errors, feature):\n",
    "    # Assume that errors and feature are both numpy arrays of the same length (number of data points)\n",
    "    # compute twice the dot product of these vectors as 'derivative' and return the value\n",
    "    derivative = 2 * (np.dot(errors, feature))\n",
    "    return(derivative)"
   ]
  },
  {
   "cell_type": "markdown",
   "metadata": {},
   "source": [
    "To test your feature derivartive run the following:"
   ]
  },
  {
   "cell_type": "code",
   "execution_count": 11,
   "metadata": {},
   "outputs": [
    {
     "name": "stdout",
     "output_type": "stream",
     "text": [
      "-23345850022.0\n",
      "-23345850022.0\n"
     ]
    }
   ],
   "source": [
    "(example_features, example_output) = get_numpy_data(sales, ['sqft_living'], 'price') \n",
    "my_weights = np.array([0., 0.]) # this makes all the predictions 0\n",
    "test_predictions = predict_output(example_features, my_weights) \n",
    "# just like SFrames 2 numpy arrays can be elementwise subtracted with '-': \n",
    "errors = test_predictions - example_output # prediction errors in this case is just the -example_output\n",
    "feature = example_features[:,0] # let's compute the derivative with respect to 'constant', the \":\" indicates \"all rows\"\n",
    "derivative = feature_derivative(errors, feature)\n",
    "print (derivative)\n",
    "print (-np.sum(example_output)*2) # should be the same as derivative"
   ]
  },
  {
   "cell_type": "markdown",
   "metadata": {},
   "source": [
    "# Gradient Descent"
   ]
  },
  {
   "cell_type": "markdown",
   "metadata": {},
   "source": [
    "Now we will write a function that performs a gradient descent. The basic premise is simple. Given a starting point we update the current weights by moving in the negative gradient direction. Recall that the gradient is the direction of *increase* and therefore the negative gradient is the direction of *decrease* and we're trying to *minimize* a cost function. \n",
    "\n",
    "The amount by which we move in the negative gradient *direction*  is called the 'step size'. We stop when we are 'sufficiently close' to the optimum. We define this by requiring that the magnitude (length) of the gradient vector to be smaller than a fixed 'tolerance'.\n",
    "\n",
    "With this in mind, complete the following gradient descent function below using your derivative function above. For each step in the gradient descent we update the weight for each feature befofe computing our stopping criteria"
   ]
  },
  {
   "cell_type": "code",
   "execution_count": 12,
   "metadata": {
    "collapsed": true
   },
   "outputs": [],
   "source": [
    "from math import sqrt # recall that the magnitude/length of a vector [g[0], g[1], g[2]] is sqrt(g[0]^2 + g[1]^2 + g[2]^2)"
   ]
  },
  {
   "cell_type": "code",
   "execution_count": 57,
   "metadata": {
    "collapsed": true
   },
   "outputs": [],
   "source": [
    "def regression_gradient_descent(feature_matrix, output, initial_weights, step_size, tolerance):\n",
    "    converged = False \n",
    "    weights = np.array(initial_weights) # make sure it's a numpy array\n",
    "    while not converged:\n",
    "        # compute the predictions based on feature_matrix and weights using your predict_output() function\n",
    "        predictions = predict_output(feature_matrix, weights)\n",
    "        # compute the errors as predictions - output\n",
    "        error = predictions - output\n",
    "        gradient_sum_squares = 0 # initialize the gradient sum of squares\n",
    "        # while we haven't reached the tolerance yet, update each feature's weight\n",
    "        for i in range(len(weights)): # loop over each weight\n",
    "            # Recall that feature_matrix[:, i] is the feature column associated with weights[i]\n",
    "            # compute the derivative for weight[i]:\n",
    "            derivative = feature_derivative(error,feature_matrix[:,i])\n",
    "            # add the squared value of the derivative to the gradient sum of squares (for assessing convergence)\n",
    "            gradient_sum_squares += derivative * derivative\n",
    "            # subtract the step size times the derivative from the current weight\n",
    "            weights[i] = weights[i] - step_size * derivative\n",
    "        # compute the square-root of the gradient sum of squares to get the gradient magnitude:\n",
    "        gradient_magnitude = sqrt(gradient_sum_squares)\n",
    "        #print(gradient_magnitude)\n",
    "        if gradient_magnitude < tolerance:\n",
    "            converged = True\n",
    "        #print(gradient_sum_squares)\n",
    "    return(weights)"
   ]
  },
  {
   "cell_type": "markdown",
   "metadata": {},
   "source": [
    "### A few things to note before we run the gradient descent. Since the gradient is a sum over all the data points and involves a product of an error and a feature the gradient itself will be very large since the features are large (squarefeet) and the output is large (prices). So while you might expect \"tolerance\" to be small, small is only relative to the size of the features. \n",
    "\n",
    "### For similar reasons the step size will be much smaller than you might expect but this is because the gradient has such large values."
   ]
  },
  {
   "cell_type": "markdown",
   "metadata": {},
   "source": [
    "# Running the Gradient Descent as Simple Regression"
   ]
  },
  {
   "cell_type": "markdown",
   "metadata": {},
   "source": [
    "First let's split the data into training and test data."
   ]
  },
  {
   "cell_type": "code",
   "execution_count": 64,
   "metadata": {
    "collapsed": true
   },
   "outputs": [],
   "source": [
    "train_data,test_data = sales.random_split(.8,seed=0)"
   ]
  },
  {
   "cell_type": "markdown",
   "metadata": {},
   "source": [
    "Although the gradient descent is designed for multiple regression since the constant is now a feature we can use the gradient descent function to estimate the parameters in the simple regression on squarefeet. The folowing cell sets up the feature_matrix, output, initial weights and step size for the first model:"
   ]
  },
  {
   "cell_type": "code",
   "execution_count": 65,
   "metadata": {
    "collapsed": true
   },
   "outputs": [],
   "source": [
    "# let's test out the gradient descent\n",
    "simple_features = ['sqft_living']\n",
    "my_output = 'price'\n",
    "(simple_feature_matrix, output) = get_numpy_data(train_data, simple_features, my_output)\n",
    "initial_weights = np.array([-47000., 1.])\n",
    "step_size = 7e-12\n",
    "tolerance = 28729008109.2832"
   ]
  },
  {
   "cell_type": "markdown",
   "metadata": {},
   "source": [
    "Next run your gradient descent with the above parameters."
   ]
  },
  {
   "cell_type": "code",
   "execution_count": 66,
   "metadata": {},
   "outputs": [
    {
     "name": "stdout",
     "output_type": "stream",
     "text": [
      "[-46999.88713334    281.93451693]\n"
     ]
    }
   ],
   "source": [
    "print(regression_gradient_descent(simple_feature_matrix, output, initial_weights, step_size, tolerance))"
   ]
  },
  {
   "cell_type": "markdown",
   "metadata": {},
   "source": [
    "How do your weights compare to those achieved in week 1 (don't expect them to be exactly the same)? \n",
    "\n",
    "**Quiz Question: What is the value of the weight for sqft_living -- the second element of ‘simple_weights’ (rounded to 1 decimal place)?**"
   ]
  },
  {
   "cell_type": "markdown",
   "metadata": {},
   "source": [
    "Use your newly estimated weights and your predict_output() function to compute the predictions on all the TEST data (you will need to create a numpy array of the test feature_matrix and test output first:"
   ]
  },
  {
   "cell_type": "code",
   "execution_count": 48,
   "metadata": {
    "collapsed": true
   },
   "outputs": [],
   "source": [
    "(test_simple_feature_matrix, test_output) = get_numpy_data(test_data, simple_features, my_output)"
   ]
  },
  {
   "cell_type": "markdown",
   "metadata": {},
   "source": [
    "Now compute your predictions using test_simple_feature_matrix and your weights from above."
   ]
  },
  {
   "cell_type": "code",
   "execution_count": 74,
   "metadata": {
    "collapsed": true
   },
   "outputs": [],
   "source": [
    "weights_1 = regression_gradient_descent(simple_feature_matrix, output, initial_weights, step_size, tolerance)\n",
    "test_predictions = predict_output(test_simple_feature_matrix, weights_1)"
   ]
  },
  {
   "cell_type": "markdown",
   "metadata": {},
   "source": [
    "**Quiz Question: What is the predicted price for the 1st house in the TEST data set for model 1 (round to nearest dollar)?**"
   ]
  },
  {
   "cell_type": "code",
   "execution_count": 75,
   "metadata": {},
   "outputs": [
    {
     "data": {
      "text/plain": [
       "356166.4720732276"
      ]
     },
     "execution_count": 75,
     "metadata": {},
     "output_type": "execute_result"
    }
   ],
   "source": [
    "test_predictions[0]"
   ]
  },
  {
   "cell_type": "markdown",
   "metadata": {},
   "source": [
    "Now that you have the predictions on test data, compute the RSS on the test data set. Save this value for comparison later. Recall that RSS is the sum of the squared errors (difference between prediction and output)."
   ]
  },
  {
   "cell_type": "code",
   "execution_count": 51,
   "metadata": {},
   "outputs": [
    {
     "data": {
      "text/plain": [
       "1997232091789948.0"
      ]
     },
     "execution_count": 51,
     "metadata": {},
     "output_type": "execute_result"
    }
   ],
   "source": [
    "test_error = test_predictions - test_data['price']\n",
    "RSS = sum(val**2 for val in test_error)\n",
    "RSS"
   ]
  },
  {
   "cell_type": "markdown",
   "metadata": {},
   "source": [
    "# Running a multiple regression"
   ]
  },
  {
   "cell_type": "markdown",
   "metadata": {},
   "source": [
    "Now we will use more than one actual feature. Use the following code to produce the weights for a second model with the following parameters:"
   ]
  },
  {
   "cell_type": "code",
   "execution_count": 54,
   "metadata": {
    "collapsed": true
   },
   "outputs": [],
   "source": [
    "model_features = ['sqft_living', 'sqft_living15'] # sqft_living15 is the average squarefeet for the nearest 15 neighbors. \n",
    "my_output = 'price'\n",
    "(train_feature_matrix, train_output) = get_numpy_data(train_data, model_features, my_output)\n",
    "train_initial_weights = np.array([-100000., 1., 1.])\n",
    "train_step_size = 4e-12\n",
    "train_tolerance = 1e9  ##1e9  #32480627325.80252"
   ]
  },
  {
   "cell_type": "markdown",
   "metadata": {},
   "source": [
    "Use the above parameters to estimate the model weights. Record these values for your quiz."
   ]
  },
  {
   "cell_type": "code",
   "execution_count": 55,
   "metadata": {},
   "outputs": [
    {
     "name": "stdout",
     "output_type": "stream",
     "text": [
      "73072020548860.52\n",
      "22673220965110.355\n",
      "7060794582096.964\n",
      "2275682394265.522\n",
      "928984105638.4122\n",
      "656307425178.0723\n",
      "610615351821.313\n",
      "593078765306.8466\n",
      "578705920128.3197\n",
      "564945676163.1863\n",
      "551538681424.5576\n",
      "538452422879.05194\n",
      "525676912708.2093\n",
      "513204543689.97723\n",
      "501028100319.07214\n",
      "489140559100.8338\n",
      "477535065232.99426\n",
      "466204926754.4423\n",
      "455143610499.4319\n",
      "444344738312.0049\n",
      "433802083366.4166\n",
      "423509566576.4532\n",
      "413461253090.1036\n",
      "403651348867.4153\n",
      "394074197339.54504\n",
      "384724276147.077\n",
      "375596193955.733\n",
      "366684687347.6286\n",
      "357984617786.2926\n",
      "349490968653.6922\n",
      "341198842357.5614\n",
      "333103457507.36005\n",
      "325200146157.23566\n",
      "317484351114.404\n",
      "309951623311.3859\n",
      "302597619240.5973\n",
      "295418098449.8005\n",
      "288408921096.985\n",
      "281566045563.2601\n",
      "274885526122.381\n",
      "268363510665.57312\n",
      "261996238480.33728\n",
      "255780038081.95297\n",
      "249711325096.43378\n",
      "243786600193.71387\n",
      "238002447069.86908\n",
      "232355530477.2137\n",
      "226842594301.13867\n",
      "221460459682.57428\n",
      "216206023185.0027\n",
      "211076255004.96097\n",
      "206068197225.00232\n",
      "201178962108.10367\n",
      "196405730432.5479\n",
      "191745749866.30716\n",
      "187196333379.99948\n",
      "182754857697.4973\n",
      "178418761783.30222\n",
      "174185545365.7997\n",
      "170052767495.56396\n",
      "166018045137.8552\n",
      "162079051798.52588\n",
      "158233516182.51422\n",
      "154479220884.1814\n",
      "150814001108.70956\n",
      "147235743423.8463\n",
      "143742384541.25757\n",
      "140331910126.8004\n",
      "137002353639.02069\n",
      "133751795195.20967\n",
      "130578360464.36478\n",
      "127480219586.41553\n",
      "124455586117.09543\n",
      "121502715997.8425\n",
      "118619906550.14551\n",
      "115805495493.74846\n",
      "113057859988.14935\n",
      "110375415696.83981\n",
      "107756615873.75105\n",
      "105199950471.36801\n",
      "102703945270.01128\n",
      "100267161027.77469\n",
      "97888192650.63202\n",
      "95565668382.23315\n",
      "93298249012.9272\n",
      "91084627107.54742\n",
      "88923526251.52238\n",
      "86813700314.86945\n",
      "84753932733.65648\n",
      "82743035808.50726\n",
      "80779850019.75247\n",
      "78863243358.8317\n",
      "76992110675.55318\n",
      "75165373040.84775\n",
      "73381977124.63599\n",
      "71640894588.46045\n",
      "69941121492.52708\n",
      "68281677716.814095\n",
      "66661606395.91837\n",
      "65079973367.30894\n",
      "63535866632.672295\n",
      "62028395832.03584\n",
      "60556691730.37247\n",
      "59119905716.38377\n",
      "57717209313.172516\n",
      "56347793700.531265\n",
      "55010869248.56017\n",
      "53705665062.35298\n",
      "52431428537.48358\n",
      "51187424926.041214\n",
      "49972936912.96372\n",
      "48787264202.41611\n",
      "47629723113.991806\n",
      "46499646188.4877\n",
      "45396381803.03561\n",
      "44319293795.363815\n",
      "43267761096.976295\n",
      "42241177375.03188\n",
      "41238950682.72135\n",
      "40260503117.94261\n",
      "39305270490.068146\n",
      "38372701994.625565\n",
      "37462259895.692924\n",
      "36573419215.82929\n",
      "35705667433.36444\n",
      "34858504186.869\n",
      "34031440986.637775\n",
      "33224000933.017326\n",
      "32435718441.41418\n",
      "31666138973.836952\n",
      "30914818776.794125\n",
      "30181324625.422382\n",
      "29465233573.679573\n",
      "28766132710.467106\n",
      "28083618921.536457\n",
      "27417298657.04902\n",
      "26766787704.64451\n",
      "26131710967.900265\n",
      "25511702250.04196\n",
      "24906404042.787518\n",
      "24315467320.204403\n",
      "23738551337.45161\n",
      "23175323434.300453\n",
      "22625458843.319332\n",
      "22088640502.603825\n",
      "21564558872.95385\n",
      "21052911759.38903\n",
      "20553404136.896152\n",
      "20065747980.312748\n",
      "19589662098.247433\n",
      "19124871970.938572\n",
      "18671109591.962273\n",
      "18228113313.69336\n",
      "17795627696.43771\n",
      "17373403361.13656\n",
      "16961196845.575098\n",
      "16558770463.993376\n",
      "16165892170.035194\n",
      "15782335422.944923\n",
      "15407879056.939842\n",
      "15042307153.68202\n",
      "14685408917.775698\n",
      "14336978555.221237\n",
      "13996815154.745186\n",
      "13664722571.957285\n",
      "13340509316.245375\n",
      "13023988440.361916\n",
      "12714977432.623997\n",
      "12413298111.67514\n",
      "12118776523.743572\n",
      "11831242842.33435\n",
      "11550531270.308443\n",
      "11276479944.278133\n",
      "11008930841.27328\n",
      "10747729687.625483\n",
      "10492725870.008041\n",
      "10243772348.590618\n",
      "10000725572.253222\n",
      "9763445395.814146\n",
      "9531794999.215717\n",
      "9305640808.63413\n",
      "9084852419.458689\n",
      "8869302521.096512\n",
      "8658866823.562687\n",
      "8453423985.815298\n",
      "8252855545.783905\n",
      "8057045852.065456\n",
      "7865881997.2369375\n",
      "7679253752.748442\n",
      "7497053505.368148\n",
      "7319176195.124652\n",
      "7145519254.732567\n",
      "6975982550.447879\n",
      "6810468324.329387\n",
      "6648881137.870726\n",
      "6491127816.965555\n",
      "6337117398.187125\n",
      "6186761076.330775\n",
      "6039972153.213123\n",
      "5896665987.6761265\n",
      "5756759946.783597\n",
      "5620173358.172885\n",
      "5486827463.537969\n",
      "5356645373.214612\n",
      "5229552021.847443\n",
      "5105474125.102799\n",
      "4984340137.412637\n",
      "4866080210.721503\n",
      "4750626154.208986\n",
      "4637911394.969435\n",
      "4527870939.627924\n",
      "4420441336.859531\n",
      "4315560640.806132\n",
      "4213168375.353631\n",
      "4113205499.263506\n",
      "4015614372.127176\n",
      "3920338721.128758\n",
      "3827323608.599399\n",
      "3736515400.3357954\n",
      "3647861734.6770563\n",
      "3561311492.3106875\n",
      "3476814766.795244\n",
      "3394322835.784892\n",
      "3313788132.935999\n",
      "3235164220.4755673\n",
      "3158405762.4298253\n",
      "3083468498.4775877\n",
      "3010309218.432717\n",
      "2938885737.3260646\n",
      "2869156871.082653\n",
      "2801082412.771238\n",
      "2734623109.4244585\n",
      "2669740639.4011946\n",
      "2606397590.291712\n",
      "2544557437.3438315\n",
      "2484184522.402805\n",
      "2425244033.35066\n",
      "2367701984.0309343\n",
      "2311525194.6537275\n",
      "2256681272.662046\n",
      "2203138594.055527\n",
      "2150866285.1540337\n",
      "2099834204.7943864\n",
      "2050012926.9535058\n",
      "2001373723.7783523\n",
      "1953888549.0209162\n",
      "1907530021.8675728\n",
      "1862271411.1504784\n",
      "1818086619.933087\n",
      "1774950170.462191\n",
      "1732837189.4784741\n",
      "1691723393.8721707\n",
      "1651585076.6836097\n",
      "1612399093.4297597\n",
      "1574142848.7606912\n",
      "1536794283.4322596\n",
      "1500331861.5838277\n",
      "1464734558.3205\n",
      "1429981847.5916207\n",
      "1396053690.352381\n",
      "1362930523.0129142\n",
      "1330593246.1519256\n",
      "1299023213.5097346\n",
      "1268202221.2327242\n",
      "1238112497.376792\n",
      "1208736691.6608484\n",
      "1180057865.462173\n",
      "1152059482.0488932\n",
      "1124725397.0458465\n",
      "1098039849.1218917\n",
      "1071987450.9068266\n",
      "1046553180.1144981\n",
      "1021722370.8833861\n",
      "997480705.3169065\n",
      "[-9.99999688e+04  2.45072603e+02  6.52795277e+01]\n"
     ]
    }
   ],
   "source": [
    "print(regression_gradient_descent(train_feature_matrix, train_output, train_initial_weights, \n",
    "                            train_step_size, train_tolerance))"
   ]
  },
  {
   "cell_type": "markdown",
   "metadata": {},
   "source": [
    "Use your newly estimated weights and the predict_output function to compute the predictions on the TEST data. Don't forget to create a numpy array for these features from the test set first!"
   ]
  },
  {
   "cell_type": "code",
   "execution_count": 67,
   "metadata": {},
   "outputs": [],
   "source": [
    "train_weights = regression_gradient_descent(train_feature_matrix, train_output, train_initial_weights, \n",
    "                            train_step_size, train_tolerance)\n",
    "(test_data_simple_feature_matrix, test_data_output) = get_numpy_data(test_data, model_features, my_output)\n",
    "test_data_predictions_2 = predict_output(test_data_simple_feature_matrix, train_weights)"
   ]
  },
  {
   "cell_type": "code",
   "execution_count": 68,
   "metadata": {},
   "outputs": [
    {
     "name": "stdout",
     "output_type": "stream",
     "text": [
      "[366651.41203656 762662.39786164 386312.09499712 ... 682087.39928241\n",
      " 585579.27865729 216559.20396617]\n"
     ]
    }
   ],
   "source": [
    "print(test_data_predictions)"
   ]
  },
  {
   "cell_type": "markdown",
   "metadata": {},
   "source": [
    "**Quiz Question: What is the predicted price for the 1st house in the TEST data set for model 2 (round to nearest dollar)?**"
   ]
  },
  {
   "cell_type": "code",
   "execution_count": 69,
   "metadata": {},
   "outputs": [
    {
     "data": {
      "text/plain": [
       "366651.41203655914"
      ]
     },
     "execution_count": 69,
     "metadata": {},
     "output_type": "execute_result"
    }
   ],
   "source": [
    "test_data_predictions_2[0]"
   ]
  },
  {
   "cell_type": "markdown",
   "metadata": {},
   "source": [
    "What is the actual price for the 1st house in the test data set?"
   ]
  },
  {
   "cell_type": "code",
   "execution_count": 70,
   "metadata": {},
   "outputs": [
    {
     "data": {
      "text/plain": [
       "310000.0"
      ]
     },
     "execution_count": 70,
     "metadata": {},
     "output_type": "execute_result"
    }
   ],
   "source": [
    "test_data['price'][0]"
   ]
  },
  {
   "cell_type": "markdown",
   "metadata": {},
   "source": [
    "**Quiz Question: Which estimate was closer to the true price for the 1st house on the TEST data set, model 1 or model 2?**"
   ]
  },
  {
   "cell_type": "markdown",
   "metadata": {},
   "source": [
    "Now use your predictions and the output to compute the RSS for model 2 on TEST data."
   ]
  },
  {
   "cell_type": "code",
   "execution_count": 73,
   "metadata": {},
   "outputs": [
    {
     "data": {
      "text/plain": [
       "270263446465243.97"
      ]
     },
     "execution_count": 73,
     "metadata": {},
     "output_type": "execute_result"
    }
   ],
   "source": [
    "test_error_2 = test_data_predictions_2 - test_data['price']\n",
    "RSS = sum(val**2 for val in test_error_2)\n",
    "RSS"
   ]
  },
  {
   "cell_type": "markdown",
   "metadata": {},
   "source": [
    "**Quiz Question: Which model (1 or 2) has lowest RSS on all of the TEST data? **"
   ]
  },
  {
   "cell_type": "code",
   "execution_count": null,
   "metadata": {
    "collapsed": true
   },
   "outputs": [],
   "source": [
    "model 2"
   ]
  }
 ],
 "metadata": {
  "kernelspec": {
   "display_name": "Python 3",
   "language": "python",
   "name": "python3"
  },
  "language_info": {
   "codemirror_mode": {
    "name": "ipython",
    "version": 3
   },
   "file_extension": ".py",
   "mimetype": "text/x-python",
   "name": "python",
   "nbconvert_exporter": "python",
   "pygments_lexer": "ipython3",
   "version": "3.6.1"
  }
 },
 "nbformat": 4,
 "nbformat_minor": 1
}
